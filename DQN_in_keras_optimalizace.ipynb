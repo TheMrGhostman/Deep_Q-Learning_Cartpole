{
  "nbformat": 4,
  "nbformat_minor": 0,
  "metadata": {
    "colab": {
      "name": "DQN in keras - optimalizace.ipynb",
      "version": "0.3.2",
      "provenance": [],
      "collapsed_sections": [],
      "toc_visible": true,
      "include_colab_link": true
    },
    "kernelspec": {
      "name": "python3",
      "display_name": "Python 3"
    },
    "accelerator": "GPU"
  },
  "cells": [
    {
      "cell_type": "markdown",
      "metadata": {
        "id": "view-in-github",
        "colab_type": "text"
      },
      "source": [
        "<a href=\"https://colab.research.google.com/github/TheMrGhostman/Deep_Q-Learning_Cartpole/blob/master/DQN_in_keras_optimalizace.ipynb\" target=\"_parent\"><img src=\"https://colab.research.google.com/assets/colab-badge.svg\" alt=\"Open In Colab\"/></a>"
      ]
    },
    {
      "cell_type": "code",
      "metadata": {
        "id": "kbGFedUvox_V",
        "colab_type": "code",
        "colab": {}
      },
      "source": [
        "\"\"\" Kdyby nebyla nějaká knihovna nainstalovaná tak spustit tohle\"\"\"\n",
        "!pip install gym\n",
        "!pip install numpy\n",
        "!pip install matplotlib\n",
        "!pip install tensorflow-gpu"
      ],
      "execution_count": 0,
      "outputs": []
    },
    {
      "cell_type": "code",
      "metadata": {
        "id": "zKSKenRQR1lk",
        "colab_type": "code",
        "outputId": "04514095-a75d-42d2-c4db-53544566b15a",
        "colab": {
          "base_uri": "https://localhost:8080/",
          "height": 68
        }
      },
      "source": [
        "import os\n",
        "import gym\n",
        "import copy\n",
        "import random\n",
        "import time as tm\n",
        "import numpy as np\n",
        "import tensorflow as tf\n",
        "from collections import deque\n",
        "from tensorflow import keras\n",
        "from keras.models import Sequential\n",
        "from keras.layers import Dense\n",
        "from keras.optimizers import Adam\n",
        "from matplotlib import pyplot as plt\n",
        "print(\"Gym:\", gym.__version__)\n",
        "print(\"Tensorflow:\", tf.__version__)"
      ],
      "execution_count": 1,
      "outputs": [
        {
          "output_type": "stream",
          "text": [
            "Gym: 0.10.11\n",
            "Tensorflow: 1.13.1\n"
          ],
          "name": "stdout"
        },
        {
          "output_type": "stream",
          "text": [
            "Using TensorFlow backend.\n"
          ],
          "name": "stderr"
        }
      ]
    },
    {
      "cell_type": "code",
      "metadata": {
        "id": "9GtCIRi8ujSO",
        "colab_type": "code",
        "colab": {
          "base_uri": "https://localhost:8080/",
          "height": 119
        },
        "outputId": "a7875495-f40e-4a8e-dfa5-fa2d54ab4500"
      },
      "source": [
        "# načtení uložených modelů k tomuto notebooku\n",
        "!git clone https://github.com/TheMrGhostman/Deep_Q-Learning_Cartpole"
      ],
      "execution_count": 34,
      "outputs": [
        {
          "output_type": "stream",
          "text": [
            "Cloning into 'Deep_Q-Learning_Cartpole'...\n",
            "remote: Enumerating objects: 55, done.\u001b[K\n",
            "remote: Counting objects: 100% (55/55), done.\u001b[K\n",
            "remote: Compressing objects: 100% (54/54), done.\u001b[K\n",
            "remote: Total 55 (delta 50), reused 0 (delta 0), pack-reused 0\u001b[K\n",
            "Unpacking objects: 100% (55/55), done.\n"
          ],
          "name": "stdout"
        }
      ]
    },
    {
      "cell_type": "code",
      "metadata": {
        "id": "ZmWJKFbKvvFD",
        "colab_type": "code",
        "colab": {}
      },
      "source": [
        "os.chdir(\"Deep_Q-Learning_Cartpole/src\")"
      ],
      "execution_count": 0,
      "outputs": []
    },
    {
      "cell_type": "markdown",
      "metadata": {
        "id": "Qegwvl8hmDDN",
        "colab_type": "text"
      },
      "source": [
        "# Deep Q-Learning Agent (Network)\n",
        "![alt text](https://cdn-images-1.medium.com/max/600/1*0_TNa54fr_LsLOllgIsrcw.png)"
      ]
    },
    {
      "cell_type": "code",
      "metadata": {
        "id": "swZrkoaFSBDg",
        "colab_type": "code",
        "colab": {}
      },
      "source": [
        "class DQNAgent:\n",
        "    def __init__(self, state_size, action_size, first_layer=24, second_layer=24):\n",
        "        self.state_size = state_size\n",
        "        self.action_size = action_size\n",
        "        self.memory = deque(maxlen=5000)     # Buffer\n",
        "        self.gamma = 0.95                    # discount rate\n",
        "        self.epsilon = 1.0                   # zvědavost     \n",
        "        self.epsilon_min = 0.01              # min zvědavost\n",
        "        self.epsilon_decay = 0.999           # jak moc rychle se má zmenšovat zvědavost\n",
        "        self.learning_rate = 0.01\n",
        "        self.num_neurons_first_layer = first_layer    # 24\n",
        "        self.num_neurons_second_layer = second_layer   # 24\n",
        "        self.model = self._build_model()\n",
        "\n",
        "        \n",
        "    def _info(self, plus=False):\n",
        "        info = \"learning_rate={}_minEps={}_gamma={}\"\\\n",
        "        .format(self.learning_rate, self.epsilon_min, self.gamma)\n",
        "        if plus:\n",
        "            info = info + \"_FirstL:{}_SecondL:{}\"\\\n",
        "            .format(self.num_neurons_first_layer, self.num_neurons_second_layer)\n",
        "        return info\n",
        "    \n",
        "    \n",
        "    def _build_model(self):\n",
        "        \"\"\"\n",
        "            Deep Q Neural Network  \n",
        "        \"\"\"\n",
        "        model = Sequential()\n",
        "        model.add(Dense(self.num_neurons_first_layer, input_dim=self.state_size, activation='relu'))\n",
        "        model.add(Dense(self.num_neurons_second_layer, activation='relu'))\n",
        "        model.add(Dense(self.action_size, activation='linear'))\n",
        "        model.compile(loss='mse',\n",
        "                      optimizer=Adam(lr=self.learning_rate))\n",
        "        return model\n",
        "\n",
        "    \n",
        "    def remember(self, state, action, reward, next_state, done):\n",
        "        \"\"\"\n",
        "            Buffer k zapamatování historie resp. scénářů \n",
        "        \"\"\"\n",
        "        self.memory.append((state, action, reward, next_state, done))\n",
        "\n",
        "        \n",
        "    def act(self, state):\n",
        "        \"\"\"\n",
        "            Na začátku, když není síť trénovaná mohla by se už na začátku zacyklit\n",
        "            ve špatných rozhodnutích. Proto je na začátku důležité dělat \n",
        "            rozhodnutí o akcích náhodně. Proto je tu přidaná možnost náhodného\n",
        "            rozhodnutí, jejíž pravděpodobnost se s počtem episod zmenšuje. \n",
        "        \"\"\"\n",
        "        if np.random.rand() <= self.epsilon:\n",
        "            return random.randrange(self.action_size)\n",
        "        act_values = self.model.predict(state)\n",
        "        return np.argmax(act_values[0])  # returns action\n",
        "\n",
        "    \n",
        "    def replay(self, batch_size):\n",
        "        \"\"\"\n",
        "            Trénovací funkce, která přehrává a trénuje již provdené scénáře z Bufferu\n",
        "        \"\"\"\n",
        "        \n",
        "        minibatch = random.sample(self.memory, batch_size)\n",
        "        \"\"\"\n",
        "        states, targets_f = [], []\n",
        "        for state, action, reward, next_state, done in minibatch:\n",
        "            target = reward\n",
        "            if not done:\n",
        "                target = (reward + self.gamma *\n",
        "                          np.amax(self.model.predict(next_state)[0]))\n",
        "            target_f = self.model.predict(state)\n",
        "            target_f[0][action] = target \n",
        "            \n",
        "            states.append(state[0])\n",
        "            targets_f.append(target_f[0])\n",
        "        history = self.model.fit(np.array(states), np.array(targets_f), epochs=1, verbose=0)\n",
        "        \"\"\"\n",
        "        \n",
        "        # provedl jsem menší optimalizaci tréninku => asi 10x rychlejší\n",
        "        cur_states, actions, rewards, next_states, dones = [],[],[],[],[]\n",
        "        for state, action, reward, next_state, done in minibatch:\n",
        "            cur_states.append(state.tolist()[0])\n",
        "            actions.append(action)\n",
        "            rewards.append(reward)\n",
        "            next_states.append(next_state.tolist()[0])\n",
        "            dones.append(done)\n",
        "\n",
        "        # Bellman Equation\n",
        "        targets = rewards + self.gamma * np.amax(self.model.predict(np.array(next_states)),axis=1) * (1-np.array(dones))\n",
        "        \n",
        "        targets_f = self.model.predict(np.array(cur_states))\n",
        "        targets_f[np.arange(len(actions)), actions] = targets\n",
        "        history = self.model.fit(np.array(cur_states), np.array(targets_f), epochs=1, verbose=0)\n",
        "        \n",
        "        # Keeping track of loss\n",
        "        loss = history.history['loss'][0]\n",
        "        if self.epsilon > self.epsilon_min:   # decreasing exploration rate\n",
        "            self.epsilon *= self.epsilon_decay\n",
        "        return loss\n",
        "    \n",
        "    \n",
        "    def load(self, name):\n",
        "        self.model.load_model(name)\n",
        "\n",
        "        \n",
        "    def save(self, name):\n",
        "        self.model.save(name)"
      ],
      "execution_count": 0,
      "outputs": []
    },
    {
      "cell_type": "markdown",
      "metadata": {
        "id": "devGFPf3fzTt",
        "colab_type": "text"
      },
      "source": [
        "# Training\n",
        "- making enviroment \n",
        "- define agent\n",
        "<br>\n",
        "(Agent will be saved every 10 episodes.)\n",
        "- training phase"
      ]
    },
    {
      "cell_type": "code",
      "metadata": {
        "id": "1NtRj9dCgdUt",
        "colab_type": "code",
        "colab": {}
      },
      "source": [
        "''\"\"\" making enviroment \"\"\"\n",
        "env = gym.make('CartPole-v1')\n",
        "state_size = env.observation_space.shape[0]\n",
        "action_size = env.action_space.n"
      ],
      "execution_count": 0,
      "outputs": []
    },
    {
      "cell_type": "code",
      "metadata": {
        "id": "fYiNZ3Y1glOf",
        "colab_type": "code",
        "colab": {
          "base_uri": "https://localhost:8080/",
          "height": 275
        },
        "outputId": "f2076740-774a-437b-8b52-c405908b7398"
      },
      "source": [
        "\"\"\" Define Agetnt and properities\"\"\"\n",
        "\n",
        "agent = DQNAgent(state_size, action_size, 24, 24)\n",
        "\n",
        "# volitelné parametry agenta\n",
        "agent.gamma = 0.9                    \n",
        "agent.epsilon = 1.0                   \n",
        "agent.epsilon_min = 0.01              \n",
        "agent.epsilon_decay = 0.999           \n",
        "agent.learning_rate = 0.01\n",
        "\n",
        "# počet trénovacích vzorků pro fci replay\n",
        "batch_size = 50 #100#32\n",
        "\n",
        "print(vars(agent))\n",
        "agent.model.summary()"
      ],
      "execution_count": 6,
      "outputs": [
        {
          "output_type": "stream",
          "text": [
            "{'state_size': 4, 'action_size': 2, 'memory': deque([], maxlen=5000), 'gamma': 0.9, 'epsilon': 1.0, 'epsilon_min': 0.01, 'epsilon_decay': 0.999, 'learning_rate': 0.01, 'num_neurons_first_layer': 24, 'num_neurons_second_layer': 24, 'model': <keras.engine.sequential.Sequential object at 0x7fa721875588>}\n",
            "_________________________________________________________________\n",
            "Layer (type)                 Output Shape              Param #   \n",
            "=================================================================\n",
            "dense_7 (Dense)              (None, 24)                120       \n",
            "_________________________________________________________________\n",
            "dense_8 (Dense)              (None, 24)                600       \n",
            "_________________________________________________________________\n",
            "dense_9 (Dense)              (None, 2)                 50        \n",
            "=================================================================\n",
            "Total params: 770\n",
            "Trainable params: 770\n",
            "Non-trainable params: 0\n",
            "_________________________________________________________________\n"
          ],
          "name": "stdout"
        }
      ]
    },
    {
      "cell_type": "code",
      "metadata": {
        "id": "0sjNNCtKSBGT",
        "colab_type": "code",
        "outputId": "cbc8e0e5-3194-4d5d-b6eb-471e6c73b5e5",
        "colab": {
          "base_uri": "https://localhost:8080/",
          "height": 8585
        }
      },
      "source": [
        "EPISODES = 500\n",
        "done = False\n",
        "\n",
        "LOSS = []\n",
        "SCORE = []\n",
        "for e in range(EPISODES):\n",
        "    \n",
        "    \"\"\" zkoušel jsem jestli to trochu nevylepší skóre (E2 problém) \"\"\"\n",
        "    if e%100==0 and np.mean(SCORE[-10:]) < np.mean(SCORE):    \n",
        "        agent.epsilon=0.3\n",
        "    \"\"\"\"\"\"    \n",
        "        \n",
        "    state = env.reset()\n",
        "    state = np.reshape(state, [1, state_size])\n",
        "    for time in range(500):\n",
        "        # env.render()\n",
        "        action = agent.act(state)\n",
        "        next_state, reward, done, _ = env.step(action)\n",
        "        \n",
        "        #reward = reward if not done else -1   \n",
        "        \n",
        "        next_state = np.reshape(next_state, [1, state_size])\n",
        "        agent.remember(state, action, reward, next_state, done)\n",
        "        state = next_state\n",
        "        if done:\n",
        "            print(\"episode: {}/{}, score: {}, e: {:.2}\"\n",
        "                  .format(e+1, EPISODES, time+1, agent.epsilon))\n",
        "            SCORE.append(time+1)\n",
        "            break\n",
        "        if len(agent.memory) > batch_size:\n",
        "            loss = agent.replay(batch_size)\n",
        "            LOSS.append(loss)\n",
        "            \n",
        "    if (e+1) % 10 == 0:\n",
        "        agent.save(f\"cartpole-dqn_{e}_{agent._info(True)}_fast.h5\")"
      ],
      "execution_count": 8,
      "outputs": [
        {
          "output_type": "stream",
          "text": [
            "/usr/local/lib/python3.6/dist-packages/numpy/core/fromnumeric.py:3118: RuntimeWarning: Mean of empty slice.\n",
            "  out=out, **kwargs)\n",
            "/usr/local/lib/python3.6/dist-packages/numpy/core/_methods.py:85: RuntimeWarning: invalid value encountered in double_scalars\n",
            "  ret = ret.dtype.type(ret / rcount)\n"
          ],
          "name": "stderr"
        },
        {
          "output_type": "stream",
          "text": [
            "episode: 1/500, score: 17, e: 0.79\n",
            "episode: 2/500, score: 120, e: 0.7\n",
            "episode: 3/500, score: 53, e: 0.66\n",
            "episode: 4/500, score: 28, e: 0.65\n",
            "episode: 5/500, score: 12, e: 0.64\n",
            "episode: 6/500, score: 39, e: 0.61\n",
            "episode: 7/500, score: 20, e: 0.6\n",
            "episode: 8/500, score: 67, e: 0.56\n",
            "episode: 9/500, score: 19, e: 0.55\n",
            "episode: 10/500, score: 112, e: 0.5\n",
            "episode: 11/500, score: 52, e: 0.47\n",
            "episode: 12/500, score: 259, e: 0.36\n",
            "episode: 13/500, score: 64, e: 0.34\n",
            "episode: 14/500, score: 100, e: 0.31\n",
            "episode: 15/500, score: 205, e: 0.25\n",
            "episode: 16/500, score: 265, e: 0.19\n",
            "episode: 17/500, score: 500, e: 0.12\n",
            "episode: 18/500, score: 250, e: 0.092\n",
            "episode: 19/500, score: 414, e: 0.061\n",
            "episode: 20/500, score: 370, e: 0.042\n",
            "episode: 21/500, score: 310, e: 0.031\n",
            "episode: 22/500, score: 319, e: 0.022\n",
            "episode: 23/500, score: 275, e: 0.017\n",
            "episode: 24/500, score: 342, e: 0.012\n",
            "episode: 25/500, score: 286, e: 0.01\n",
            "episode: 26/500, score: 430, e: 0.01\n",
            "episode: 27/500, score: 465, e: 0.01\n",
            "episode: 28/500, score: 152, e: 0.01\n",
            "episode: 29/500, score: 273, e: 0.01\n",
            "episode: 30/500, score: 137, e: 0.01\n",
            "episode: 31/500, score: 40, e: 0.01\n",
            "episode: 32/500, score: 22, e: 0.01\n",
            "episode: 33/500, score: 21, e: 0.01\n",
            "episode: 34/500, score: 20, e: 0.01\n",
            "episode: 35/500, score: 36, e: 0.01\n",
            "episode: 36/500, score: 138, e: 0.01\n",
            "episode: 37/500, score: 136, e: 0.01\n",
            "episode: 38/500, score: 187, e: 0.01\n",
            "episode: 39/500, score: 111, e: 0.01\n",
            "episode: 40/500, score: 210, e: 0.01\n",
            "episode: 41/500, score: 500, e: 0.01\n",
            "episode: 42/500, score: 334, e: 0.01\n",
            "episode: 43/500, score: 229, e: 0.01\n",
            "episode: 44/500, score: 181, e: 0.01\n",
            "episode: 45/500, score: 276, e: 0.01\n",
            "episode: 46/500, score: 195, e: 0.01\n",
            "episode: 47/500, score: 223, e: 0.01\n",
            "episode: 48/500, score: 371, e: 0.01\n",
            "episode: 49/500, score: 395, e: 0.01\n",
            "episode: 50/500, score: 375, e: 0.01\n",
            "episode: 51/500, score: 318, e: 0.01\n",
            "episode: 52/500, score: 238, e: 0.01\n",
            "episode: 53/500, score: 127, e: 0.01\n",
            "episode: 54/500, score: 188, e: 0.01\n",
            "episode: 55/500, score: 466, e: 0.01\n",
            "episode: 56/500, score: 242, e: 0.01\n",
            "episode: 57/500, score: 262, e: 0.01\n",
            "episode: 58/500, score: 169, e: 0.01\n",
            "episode: 59/500, score: 188, e: 0.01\n",
            "episode: 60/500, score: 246, e: 0.01\n",
            "episode: 61/500, score: 294, e: 0.01\n",
            "episode: 62/500, score: 318, e: 0.01\n",
            "episode: 63/500, score: 213, e: 0.01\n",
            "episode: 64/500, score: 67, e: 0.01\n",
            "episode: 65/500, score: 158, e: 0.01\n",
            "episode: 66/500, score: 46, e: 0.01\n",
            "episode: 67/500, score: 100, e: 0.01\n",
            "episode: 68/500, score: 232, e: 0.01\n",
            "episode: 69/500, score: 192, e: 0.01\n",
            "episode: 70/500, score: 216, e: 0.01\n",
            "episode: 71/500, score: 333, e: 0.01\n",
            "episode: 72/500, score: 36, e: 0.01\n",
            "episode: 73/500, score: 223, e: 0.01\n",
            "episode: 74/500, score: 232, e: 0.01\n",
            "episode: 75/500, score: 221, e: 0.01\n",
            "episode: 76/500, score: 187, e: 0.01\n",
            "episode: 77/500, score: 175, e: 0.01\n",
            "episode: 78/500, score: 172, e: 0.01\n",
            "episode: 79/500, score: 312, e: 0.01\n",
            "episode: 80/500, score: 308, e: 0.01\n",
            "episode: 81/500, score: 48, e: 0.01\n",
            "episode: 82/500, score: 321, e: 0.01\n",
            "episode: 83/500, score: 283, e: 0.01\n",
            "episode: 84/500, score: 202, e: 0.01\n",
            "episode: 85/500, score: 246, e: 0.01\n",
            "episode: 86/500, score: 378, e: 0.01\n",
            "episode: 87/500, score: 157, e: 0.01\n",
            "episode: 88/500, score: 500, e: 0.01\n",
            "episode: 89/500, score: 92, e: 0.01\n",
            "episode: 90/500, score: 164, e: 0.01\n",
            "episode: 91/500, score: 168, e: 0.01\n",
            "episode: 92/500, score: 97, e: 0.01\n",
            "episode: 93/500, score: 90, e: 0.01\n",
            "episode: 94/500, score: 16, e: 0.01\n",
            "episode: 95/500, score: 18, e: 0.01\n",
            "episode: 96/500, score: 22, e: 0.01\n",
            "episode: 97/500, score: 50, e: 0.01\n",
            "episode: 98/500, score: 253, e: 0.01\n",
            "episode: 99/500, score: 206, e: 0.01\n",
            "episode: 100/500, score: 185, e: 0.01\n",
            "episode: 101/500, score: 15, e: 0.3\n",
            "episode: 102/500, score: 42, e: 0.28\n",
            "episode: 103/500, score: 80, e: 0.26\n",
            "episode: 104/500, score: 24, e: 0.26\n",
            "episode: 105/500, score: 174, e: 0.22\n",
            "episode: 106/500, score: 331, e: 0.16\n",
            "episode: 107/500, score: 225, e: 0.12\n",
            "episode: 108/500, score: 156, e: 0.11\n",
            "episode: 109/500, score: 218, e: 0.085\n",
            "episode: 110/500, score: 226, e: 0.068\n",
            "episode: 111/500, score: 310, e: 0.05\n",
            "episode: 112/500, score: 203, e: 0.041\n",
            "episode: 113/500, score: 183, e: 0.034\n",
            "episode: 114/500, score: 187, e: 0.028\n",
            "episode: 115/500, score: 170, e: 0.024\n",
            "episode: 116/500, score: 41, e: 0.023\n",
            "episode: 117/500, score: 292, e: 0.017\n",
            "episode: 118/500, score: 230, e: 0.014\n",
            "episode: 119/500, score: 500, e: 0.01\n",
            "episode: 120/500, score: 262, e: 0.01\n",
            "episode: 121/500, score: 123, e: 0.01\n",
            "episode: 122/500, score: 176, e: 0.01\n",
            "episode: 123/500, score: 147, e: 0.01\n",
            "episode: 124/500, score: 137, e: 0.01\n",
            "episode: 125/500, score: 209, e: 0.01\n",
            "episode: 126/500, score: 130, e: 0.01\n",
            "episode: 127/500, score: 253, e: 0.01\n",
            "episode: 128/500, score: 149, e: 0.01\n",
            "episode: 129/500, score: 384, e: 0.01\n",
            "episode: 130/500, score: 56, e: 0.01\n",
            "episode: 131/500, score: 55, e: 0.01\n",
            "episode: 132/500, score: 12, e: 0.01\n",
            "episode: 133/500, score: 119, e: 0.01\n",
            "episode: 134/500, score: 60, e: 0.01\n",
            "episode: 135/500, score: 197, e: 0.01\n",
            "episode: 136/500, score: 180, e: 0.01\n",
            "episode: 137/500, score: 215, e: 0.01\n",
            "episode: 138/500, score: 195, e: 0.01\n",
            "episode: 139/500, score: 500, e: 0.01\n",
            "episode: 140/500, score: 238, e: 0.01\n",
            "episode: 141/500, score: 176, e: 0.01\n",
            "episode: 142/500, score: 103, e: 0.01\n",
            "episode: 143/500, score: 128, e: 0.01\n",
            "episode: 144/500, score: 121, e: 0.01\n",
            "episode: 145/500, score: 276, e: 0.01\n",
            "episode: 146/500, score: 183, e: 0.01\n",
            "episode: 147/500, score: 500, e: 0.01\n",
            "episode: 148/500, score: 266, e: 0.01\n",
            "episode: 149/500, score: 229, e: 0.01\n",
            "episode: 150/500, score: 163, e: 0.01\n",
            "episode: 151/500, score: 228, e: 0.01\n",
            "episode: 152/500, score: 297, e: 0.01\n",
            "episode: 153/500, score: 119, e: 0.01\n",
            "episode: 154/500, score: 120, e: 0.01\n",
            "episode: 155/500, score: 59, e: 0.01\n",
            "episode: 156/500, score: 99, e: 0.01\n",
            "episode: 157/500, score: 105, e: 0.01\n",
            "episode: 158/500, score: 253, e: 0.01\n",
            "episode: 159/500, score: 15, e: 0.01\n",
            "episode: 160/500, score: 150, e: 0.01\n",
            "episode: 161/500, score: 149, e: 0.01\n",
            "episode: 162/500, score: 165, e: 0.01\n",
            "episode: 163/500, score: 133, e: 0.01\n",
            "episode: 164/500, score: 107, e: 0.01\n",
            "episode: 165/500, score: 138, e: 0.01\n",
            "episode: 166/500, score: 41, e: 0.01\n",
            "episode: 167/500, score: 279, e: 0.01\n",
            "episode: 168/500, score: 112, e: 0.01\n",
            "episode: 169/500, score: 133, e: 0.01\n",
            "episode: 170/500, score: 126, e: 0.01\n",
            "episode: 171/500, score: 179, e: 0.01\n",
            "episode: 172/500, score: 128, e: 0.01\n",
            "episode: 173/500, score: 132, e: 0.01\n",
            "episode: 174/500, score: 110, e: 0.01\n",
            "episode: 175/500, score: 200, e: 0.01\n",
            "episode: 176/500, score: 151, e: 0.01\n",
            "episode: 177/500, score: 205, e: 0.01\n",
            "episode: 178/500, score: 169, e: 0.01\n",
            "episode: 179/500, score: 120, e: 0.01\n",
            "episode: 180/500, score: 171, e: 0.01\n",
            "episode: 181/500, score: 131, e: 0.01\n",
            "episode: 182/500, score: 211, e: 0.01\n",
            "episode: 183/500, score: 120, e: 0.01\n",
            "episode: 184/500, score: 133, e: 0.01\n",
            "episode: 185/500, score: 116, e: 0.01\n",
            "episode: 186/500, score: 166, e: 0.01\n",
            "episode: 187/500, score: 192, e: 0.01\n",
            "episode: 188/500, score: 173, e: 0.01\n",
            "episode: 189/500, score: 200, e: 0.01\n",
            "episode: 190/500, score: 148, e: 0.01\n",
            "episode: 191/500, score: 190, e: 0.01\n",
            "episode: 192/500, score: 243, e: 0.01\n",
            "episode: 193/500, score: 38, e: 0.01\n",
            "episode: 194/500, score: 265, e: 0.01\n",
            "episode: 195/500, score: 130, e: 0.01\n",
            "episode: 196/500, score: 256, e: 0.01\n",
            "episode: 197/500, score: 130, e: 0.01\n",
            "episode: 198/500, score: 13, e: 0.01\n",
            "episode: 199/500, score: 334, e: 0.01\n",
            "episode: 200/500, score: 146, e: 0.01\n",
            "episode: 201/500, score: 116, e: 0.27\n",
            "episode: 202/500, score: 213, e: 0.22\n",
            "episode: 203/500, score: 199, e: 0.18\n",
            "episode: 204/500, score: 154, e: 0.15\n",
            "episode: 205/500, score: 252, e: 0.12\n",
            "episode: 206/500, score: 114, e: 0.11\n",
            "episode: 207/500, score: 215, e: 0.085\n",
            "episode: 208/500, score: 102, e: 0.077\n",
            "episode: 209/500, score: 142, e: 0.067\n",
            "episode: 210/500, score: 160, e: 0.057\n",
            "episode: 211/500, score: 54, e: 0.054\n",
            "episode: 212/500, score: 281, e: 0.041\n",
            "episode: 213/500, score: 139, e: 0.036\n",
            "episode: 214/500, score: 345, e: 0.025\n",
            "episode: 215/500, score: 250, e: 0.02\n",
            "episode: 216/500, score: 222, e: 0.016\n",
            "episode: 217/500, score: 135, e: 0.014\n",
            "episode: 218/500, score: 61, e: 0.013\n",
            "episode: 219/500, score: 114, e: 0.012\n",
            "episode: 220/500, score: 72, e: 0.011\n",
            "episode: 221/500, score: 39, e: 0.01\n",
            "episode: 222/500, score: 26, e: 0.01\n",
            "episode: 223/500, score: 20, e: 0.01\n",
            "episode: 224/500, score: 94, e: 0.01\n",
            "episode: 225/500, score: 12, e: 0.01\n",
            "episode: 226/500, score: 203, e: 0.01\n",
            "episode: 227/500, score: 186, e: 0.01\n",
            "episode: 228/500, score: 189, e: 0.01\n",
            "episode: 229/500, score: 273, e: 0.01\n",
            "episode: 230/500, score: 139, e: 0.01\n",
            "episode: 231/500, score: 184, e: 0.01\n",
            "episode: 232/500, score: 138, e: 0.01\n",
            "episode: 233/500, score: 217, e: 0.01\n",
            "episode: 234/500, score: 178, e: 0.01\n",
            "episode: 235/500, score: 51, e: 0.01\n",
            "episode: 236/500, score: 164, e: 0.01\n",
            "episode: 237/500, score: 154, e: 0.01\n",
            "episode: 238/500, score: 63, e: 0.01\n",
            "episode: 239/500, score: 186, e: 0.01\n",
            "episode: 240/500, score: 175, e: 0.01\n",
            "episode: 241/500, score: 108, e: 0.01\n",
            "episode: 242/500, score: 98, e: 0.01\n",
            "episode: 243/500, score: 113, e: 0.01\n",
            "episode: 244/500, score: 208, e: 0.01\n",
            "episode: 245/500, score: 216, e: 0.01\n",
            "episode: 246/500, score: 206, e: 0.01\n",
            "episode: 247/500, score: 273, e: 0.01\n",
            "episode: 248/500, score: 273, e: 0.01\n",
            "episode: 249/500, score: 258, e: 0.01\n",
            "episode: 250/500, score: 213, e: 0.01\n",
            "episode: 251/500, score: 286, e: 0.01\n",
            "episode: 252/500, score: 322, e: 0.01\n",
            "episode: 253/500, score: 212, e: 0.01\n",
            "episode: 254/500, score: 164, e: 0.01\n",
            "episode: 255/500, score: 141, e: 0.01\n",
            "episode: 256/500, score: 140, e: 0.01\n",
            "episode: 257/500, score: 102, e: 0.01\n",
            "episode: 258/500, score: 199, e: 0.01\n",
            "episode: 259/500, score: 276, e: 0.01\n",
            "episode: 260/500, score: 62, e: 0.01\n",
            "episode: 261/500, score: 122, e: 0.01\n",
            "episode: 262/500, score: 126, e: 0.01\n",
            "episode: 263/500, score: 287, e: 0.01\n",
            "episode: 264/500, score: 102, e: 0.01\n",
            "episode: 265/500, score: 124, e: 0.01\n",
            "episode: 266/500, score: 117, e: 0.01\n",
            "episode: 267/500, score: 231, e: 0.01\n",
            "episode: 268/500, score: 172, e: 0.01\n",
            "episode: 269/500, score: 160, e: 0.01\n",
            "episode: 270/500, score: 123, e: 0.01\n",
            "episode: 271/500, score: 199, e: 0.01\n",
            "episode: 272/500, score: 59, e: 0.01\n",
            "episode: 273/500, score: 131, e: 0.01\n",
            "episode: 274/500, score: 129, e: 0.01\n",
            "episode: 275/500, score: 98, e: 0.01\n",
            "episode: 276/500, score: 175, e: 0.01\n",
            "episode: 277/500, score: 233, e: 0.01\n",
            "episode: 278/500, score: 237, e: 0.01\n",
            "episode: 279/500, score: 334, e: 0.01\n",
            "episode: 280/500, score: 180, e: 0.01\n",
            "episode: 281/500, score: 138, e: 0.01\n",
            "episode: 282/500, score: 93, e: 0.01\n",
            "episode: 283/500, score: 139, e: 0.01\n",
            "episode: 284/500, score: 311, e: 0.01\n",
            "episode: 285/500, score: 88, e: 0.01\n",
            "episode: 286/500, score: 178, e: 0.01\n",
            "episode: 287/500, score: 199, e: 0.01\n",
            "episode: 288/500, score: 127, e: 0.01\n",
            "episode: 289/500, score: 121, e: 0.01\n",
            "episode: 290/500, score: 172, e: 0.01\n",
            "episode: 291/500, score: 287, e: 0.01\n",
            "episode: 292/500, score: 200, e: 0.01\n",
            "episode: 293/500, score: 39, e: 0.01\n",
            "episode: 294/500, score: 78, e: 0.01\n",
            "episode: 295/500, score: 190, e: 0.01\n",
            "episode: 296/500, score: 47, e: 0.01\n",
            "episode: 297/500, score: 111, e: 0.01\n",
            "episode: 298/500, score: 116, e: 0.01\n",
            "episode: 299/500, score: 80, e: 0.01\n",
            "episode: 300/500, score: 223, e: 0.01\n",
            "episode: 301/500, score: 11, e: 0.3\n",
            "episode: 302/500, score: 17, e: 0.29\n",
            "episode: 303/500, score: 54, e: 0.28\n",
            "episode: 304/500, score: 47, e: 0.26\n",
            "episode: 305/500, score: 58, e: 0.25\n",
            "episode: 306/500, score: 76, e: 0.23\n",
            "episode: 307/500, score: 95, e: 0.21\n",
            "episode: 308/500, score: 126, e: 0.19\n",
            "episode: 309/500, score: 54, e: 0.18\n",
            "episode: 310/500, score: 72, e: 0.16\n",
            "episode: 311/500, score: 84, e: 0.15\n",
            "episode: 312/500, score: 10, e: 0.15\n",
            "episode: 313/500, score: 44, e: 0.14\n",
            "episode: 314/500, score: 83, e: 0.13\n",
            "episode: 315/500, score: 90, e: 0.12\n",
            "episode: 316/500, score: 150, e: 0.1\n",
            "episode: 317/500, score: 103, e: 0.094\n",
            "episode: 318/500, score: 123, e: 0.083\n",
            "episode: 319/500, score: 135, e: 0.073\n",
            "episode: 320/500, score: 119, e: 0.065\n",
            "episode: 321/500, score: 139, e: 0.056\n",
            "episode: 322/500, score: 103, e: 0.051\n",
            "episode: 323/500, score: 45, e: 0.049\n",
            "episode: 324/500, score: 97, e: 0.044\n",
            "episode: 325/500, score: 24, e: 0.043\n",
            "episode: 326/500, score: 158, e: 0.037\n",
            "episode: 327/500, score: 71, e: 0.035\n",
            "episode: 328/500, score: 208, e: 0.028\n",
            "episode: 329/500, score: 126, e: 0.025\n",
            "episode: 330/500, score: 154, e: 0.021\n",
            "episode: 331/500, score: 122, e: 0.019\n",
            "episode: 332/500, score: 115, e: 0.017\n",
            "episode: 333/500, score: 154, e: 0.014\n",
            "episode: 334/500, score: 142, e: 0.013\n",
            "episode: 335/500, score: 42, e: 0.012\n",
            "episode: 336/500, score: 155, e: 0.01\n",
            "episode: 337/500, score: 112, e: 0.01\n",
            "episode: 338/500, score: 94, e: 0.01\n",
            "episode: 339/500, score: 52, e: 0.01\n",
            "episode: 340/500, score: 174, e: 0.01\n",
            "episode: 341/500, score: 32, e: 0.01\n",
            "episode: 342/500, score: 54, e: 0.01\n",
            "episode: 343/500, score: 108, e: 0.01\n",
            "episode: 344/500, score: 217, e: 0.01\n",
            "episode: 345/500, score: 67, e: 0.01\n",
            "episode: 346/500, score: 177, e: 0.01\n",
            "episode: 347/500, score: 84, e: 0.01\n",
            "episode: 348/500, score: 93, e: 0.01\n",
            "episode: 349/500, score: 224, e: 0.01\n",
            "episode: 350/500, score: 49, e: 0.01\n",
            "episode: 351/500, score: 12, e: 0.01\n",
            "episode: 352/500, score: 97, e: 0.01\n",
            "episode: 353/500, score: 111, e: 0.01\n",
            "episode: 354/500, score: 153, e: 0.01\n",
            "episode: 355/500, score: 261, e: 0.01\n",
            "episode: 356/500, score: 108, e: 0.01\n",
            "episode: 357/500, score: 98, e: 0.01\n",
            "episode: 358/500, score: 117, e: 0.01\n",
            "episode: 359/500, score: 67, e: 0.01\n",
            "episode: 360/500, score: 12, e: 0.01\n",
            "episode: 361/500, score: 20, e: 0.01\n",
            "episode: 362/500, score: 132, e: 0.01\n",
            "episode: 363/500, score: 271, e: 0.01\n",
            "episode: 364/500, score: 100, e: 0.01\n",
            "episode: 365/500, score: 72, e: 0.01\n",
            "episode: 366/500, score: 136, e: 0.01\n",
            "episode: 367/500, score: 179, e: 0.01\n",
            "episode: 368/500, score: 129, e: 0.01\n",
            "episode: 369/500, score: 78, e: 0.01\n",
            "episode: 370/500, score: 215, e: 0.01\n",
            "episode: 371/500, score: 150, e: 0.01\n",
            "episode: 372/500, score: 119, e: 0.01\n",
            "episode: 373/500, score: 116, e: 0.01\n",
            "episode: 374/500, score: 114, e: 0.01\n",
            "episode: 375/500, score: 41, e: 0.01\n",
            "episode: 376/500, score: 115, e: 0.01\n",
            "episode: 377/500, score: 96, e: 0.01\n",
            "episode: 378/500, score: 14, e: 0.01\n",
            "episode: 379/500, score: 149, e: 0.01\n",
            "episode: 380/500, score: 166, e: 0.01\n",
            "episode: 381/500, score: 108, e: 0.01\n",
            "episode: 382/500, score: 104, e: 0.01\n",
            "episode: 383/500, score: 50, e: 0.01\n",
            "episode: 384/500, score: 14, e: 0.01\n",
            "episode: 385/500, score: 199, e: 0.01\n",
            "episode: 386/500, score: 30, e: 0.01\n",
            "episode: 387/500, score: 158, e: 0.01\n",
            "episode: 388/500, score: 114, e: 0.01\n",
            "episode: 389/500, score: 33, e: 0.01\n",
            "episode: 390/500, score: 29, e: 0.01\n",
            "episode: 391/500, score: 16, e: 0.01\n",
            "episode: 392/500, score: 122, e: 0.01\n",
            "episode: 393/500, score: 99, e: 0.01\n",
            "episode: 394/500, score: 158, e: 0.01\n",
            "episode: 395/500, score: 56, e: 0.01\n",
            "episode: 396/500, score: 50, e: 0.01\n",
            "episode: 397/500, score: 154, e: 0.01\n",
            "episode: 398/500, score: 151, e: 0.01\n",
            "episode: 399/500, score: 500, e: 0.01\n",
            "episode: 400/500, score: 162, e: 0.01\n",
            "episode: 401/500, score: 35, e: 0.29\n",
            "episode: 402/500, score: 117, e: 0.26\n",
            "episode: 403/500, score: 25, e: 0.25\n",
            "episode: 404/500, score: 143, e: 0.22\n",
            "episode: 405/500, score: 96, e: 0.2\n",
            "episode: 406/500, score: 86, e: 0.18\n",
            "episode: 407/500, score: 61, e: 0.17\n",
            "episode: 408/500, score: 25, e: 0.17\n",
            "episode: 409/500, score: 39, e: 0.16\n",
            "episode: 410/500, score: 40, e: 0.16\n",
            "episode: 411/500, score: 31, e: 0.15\n",
            "episode: 412/500, score: 60, e: 0.14\n",
            "episode: 413/500, score: 12, e: 0.14\n",
            "episode: 414/500, score: 44, e: 0.13\n",
            "episode: 415/500, score: 69, e: 0.13\n",
            "episode: 416/500, score: 150, e: 0.11\n",
            "episode: 417/500, score: 26, e: 0.11\n",
            "episode: 418/500, score: 33, e: 0.1\n",
            "episode: 419/500, score: 15, e: 0.1\n",
            "episode: 420/500, score: 21, e: 0.099\n",
            "episode: 421/500, score: 11, e: 0.098\n",
            "episode: 422/500, score: 10, e: 0.097\n",
            "episode: 423/500, score: 94, e: 0.089\n",
            "episode: 424/500, score: 31, e: 0.086\n",
            "episode: 425/500, score: 10, e: 0.085\n",
            "episode: 426/500, score: 88, e: 0.078\n",
            "episode: 427/500, score: 90, e: 0.071\n",
            "episode: 428/500, score: 60, e: 0.067\n",
            "episode: 429/500, score: 90, e: 0.062\n",
            "episode: 430/500, score: 64, e: 0.058\n",
            "episode: 431/500, score: 112, e: 0.052\n",
            "episode: 432/500, score: 100, e: 0.047\n",
            "episode: 433/500, score: 65, e: 0.044\n",
            "episode: 434/500, score: 130, e: 0.039\n",
            "episode: 435/500, score: 97, e: 0.035\n",
            "episode: 436/500, score: 119, e: 0.031\n",
            "episode: 437/500, score: 202, e: 0.025\n",
            "episode: 438/500, score: 22, e: 0.025\n",
            "episode: 439/500, score: 122, e: 0.022\n",
            "episode: 440/500, score: 100, e: 0.02\n",
            "episode: 441/500, score: 174, e: 0.017\n",
            "episode: 442/500, score: 84, e: 0.016\n",
            "episode: 443/500, score: 49, e: 0.015\n",
            "episode: 444/500, score: 167, e: 0.013\n",
            "episode: 445/500, score: 56, e: 0.012\n",
            "episode: 446/500, score: 213, e: 0.01\n",
            "episode: 447/500, score: 461, e: 0.01\n",
            "episode: 448/500, score: 70, e: 0.01\n",
            "episode: 449/500, score: 138, e: 0.01\n",
            "episode: 450/500, score: 131, e: 0.01\n",
            "episode: 451/500, score: 21, e: 0.01\n",
            "episode: 452/500, score: 19, e: 0.01\n",
            "episode: 453/500, score: 145, e: 0.01\n",
            "episode: 454/500, score: 98, e: 0.01\n",
            "episode: 455/500, score: 298, e: 0.01\n",
            "episode: 456/500, score: 143, e: 0.01\n",
            "episode: 457/500, score: 100, e: 0.01\n",
            "episode: 458/500, score: 74, e: 0.01\n",
            "episode: 459/500, score: 96, e: 0.01\n",
            "episode: 460/500, score: 105, e: 0.01\n",
            "episode: 461/500, score: 78, e: 0.01\n",
            "episode: 462/500, score: 96, e: 0.01\n",
            "episode: 463/500, score: 192, e: 0.01\n",
            "episode: 464/500, score: 217, e: 0.01\n",
            "episode: 465/500, score: 112, e: 0.01\n",
            "episode: 466/500, score: 259, e: 0.01\n",
            "episode: 467/500, score: 58, e: 0.01\n",
            "episode: 468/500, score: 122, e: 0.01\n",
            "episode: 469/500, score: 42, e: 0.01\n",
            "episode: 470/500, score: 103, e: 0.01\n",
            "episode: 471/500, score: 151, e: 0.01\n",
            "episode: 472/500, score: 249, e: 0.01\n",
            "episode: 473/500, score: 136, e: 0.01\n",
            "episode: 474/500, score: 88, e: 0.01\n",
            "episode: 475/500, score: 97, e: 0.01\n",
            "episode: 476/500, score: 76, e: 0.01\n",
            "episode: 477/500, score: 116, e: 0.01\n",
            "episode: 478/500, score: 86, e: 0.01\n",
            "episode: 479/500, score: 62, e: 0.01\n",
            "episode: 480/500, score: 31, e: 0.01\n",
            "episode: 481/500, score: 51, e: 0.01\n",
            "episode: 482/500, score: 44, e: 0.01\n",
            "episode: 483/500, score: 153, e: 0.01\n",
            "episode: 484/500, score: 129, e: 0.01\n",
            "episode: 485/500, score: 197, e: 0.01\n",
            "episode: 486/500, score: 324, e: 0.01\n",
            "episode: 487/500, score: 15, e: 0.01\n",
            "episode: 488/500, score: 206, e: 0.01\n",
            "episode: 489/500, score: 201, e: 0.01\n",
            "episode: 490/500, score: 192, e: 0.01\n",
            "episode: 491/500, score: 180, e: 0.01\n",
            "episode: 492/500, score: 86, e: 0.01\n",
            "episode: 493/500, score: 200, e: 0.01\n",
            "episode: 494/500, score: 134, e: 0.01\n",
            "episode: 495/500, score: 318, e: 0.01\n",
            "episode: 496/500, score: 114, e: 0.01\n",
            "episode: 497/500, score: 92, e: 0.01\n",
            "episode: 498/500, score: 40, e: 0.01\n",
            "episode: 499/500, score: 117, e: 0.01\n",
            "episode: 500/500, score: 95, e: 0.01\n"
          ],
          "name": "stdout"
        }
      ]
    },
    {
      "cell_type": "markdown",
      "metadata": {
        "id": "8eKJyUoxm2-e",
        "colab_type": "text"
      },
      "source": [
        "## Loss and Score from training"
      ]
    },
    {
      "cell_type": "code",
      "metadata": {
        "id": "x3rmAwGBrRqO",
        "colab_type": "code",
        "outputId": "8827357e-c00d-4787-bad2-894f9ca4d4ec",
        "colab": {
          "base_uri": "https://localhost:8080/",
          "height": 549
        }
      },
      "source": [
        "plt.figure(\"Loss after episode\")\n",
        "plt.plot(LOSS, lw=0.5)\n",
        "plt.xlabel(\"epochs (fitted in replay)\")\n",
        "plt.show()\n",
        "plt.figure(\"score in episodes\")\n",
        "plt.plot(SCORE)\n",
        "plt.xlabel(\"episode\")\n",
        "plt.show()"
      ],
      "execution_count": 14,
      "outputs": [
        {
          "output_type": "display_data",
          "data": {
            "image/png": "[encoded data removed]",
            "text/plain": [
              "<Figure size 432x288 with 1 Axes>"
            ]
          },
          "metadata": {
            "tags": []
          }
        },
        {
          "output_type": "display_data",
          "data": {
            "image/png": "[encoded data removed]",
            "text/plain": [
              "<Figure size 432x288 with 1 Axes>"
            ]
          },
          "metadata": {
            "tags": []
          }
        }
      ]
    },
    {
      "cell_type": "code",
      "metadata": {
        "id": "hiW_TOF6qECH",
        "colab_type": "code",
        "outputId": "33589008-b8e2-431b-dcef-6d1c896a5db8",
        "colab": {
          "base_uri": "https://localhost:8080/",
          "height": 34
        }
      },
      "source": [
        "np.mean(SCORE[:300])"
      ],
      "execution_count": 11,
      "outputs": [
        {
          "output_type": "execute_result",
          "data": {
            "text/plain": [
              "177.94666666666666"
            ]
          },
          "metadata": {
            "tags": []
          },
          "execution_count": 11
        }
      ]
    },
    {
      "cell_type": "code",
      "metadata": {
        "id": "v9qRV50UNwtT",
        "colab_type": "code",
        "outputId": "05ffc58a-000c-40ed-e13a-f705dfafe6d6",
        "colab": {
          "base_uri": "https://localhost:8080/",
          "height": 521
        }
      },
      "source": [
        "# ukázka staršího tréniku \n",
        "plt.figure(\"Loss after episode\")\n",
        "plt.plot(LOSS)\n",
        "plt.show()\n",
        "plt.figure(\"score in episodes\")\n",
        "plt.plot(SCORE)\n",
        "plt.show()"
      ],
      "execution_count": 0,
      "outputs": [
        {
          "output_type": "display_data",
          "data": {
            "image/png": "[encoded data removed]",
            "text/plain": [
              "<Figure size 432x288 with 1 Axes>"
            ]
          },
          "metadata": {
            "tags": []
          }
        },
        {
          "output_type": "display_data",
          "data": {
            "image/png": "[encoded data removed]",
            "text/plain": [
              "<Figure size 432x288 with 1 Axes>"
            ]
          },
          "metadata": {
            "tags": []
          }
        }
      ]
    },
    {
      "cell_type": "code",
      "metadata": {
        "id": "XU3e3946cAQh",
        "colab_type": "code",
        "colab": {}
      },
      "source": [
        "np.save(f\"score_per_episode_{agent._info()}.npy\", np.array(SCORE))"
      ],
      "execution_count": 0,
      "outputs": []
    },
    {
      "cell_type": "markdown",
      "metadata": {
        "id": "kJNioG50nAqe",
        "colab_type": "text"
      },
      "source": [
        "# Model testing and evaluation"
      ]
    },
    {
      "cell_type": "code",
      "metadata": {
        "id": "LDe3CJ7JSBIh",
        "colab_type": "code",
        "colab": {}
      },
      "source": [
        "def Model_testing(env, Agent, episodes, eps, disp=True): \n",
        "    TOT_REW = []\n",
        "    for i in range(episodes):\n",
        "        state = env.reset()\n",
        "        total_reward = 0\n",
        "        done = False\n",
        "        state = state.reshape(1,state_size)\n",
        "        time = 0\n",
        "        tmp_eps = Agent.epsilon\n",
        "        Agent.epsilon = eps\n",
        "        while not done:\n",
        "            time += 1\n",
        "            action = Agent.act(state)\n",
        "            next_state, reward, done, info = env.step(action)\n",
        "            #env.render()                                          # v colabu env.render() nefunguje\n",
        "            next_state = next_state.reshape(1, state_size)\n",
        "            total_reward += reward\n",
        "            state = next_state\n",
        "        TOT_REW.append(total_reward)\n",
        "        if disp:\n",
        "            print(f\"Game ({i+1}.) with reward {total_reward}\")\n",
        "        Agent.epsilon = tmp_eps\n",
        "    print(\"Mean game reward for {} episodes is {}\". format(episodes, np.mean(TOT_REW)))"
      ],
      "execution_count": 0,
      "outputs": []
    },
    {
      "cell_type": "code",
      "metadata": {
        "id": "1e06bes8k9pz",
        "colab_type": "code",
        "colab": {
          "base_uri": "https://localhost:8080/",
          "height": 221
        },
        "outputId": "26791734-ade5-40cc-870a-69c32aeab723"
      },
      "source": [
        "Agent = DQNAgent(state_size, action_size, 32, 24)\n",
        "Agent.model = keras.models.load_model(\"cartpole-dqn_19_learning_rate=0.01_minEps=0.01_gamma=0.9_FirstL:24_SecondL:24_fast.h5\")\n",
        "#\"cartpole-dqn_489_learning_rate=0.01_minEps=0.01_gamma=0.95_fast3.h5\"\n",
        "\n",
        "Model_testing(env, Agent, 10, 0.0)\n",
        "Model_testing(env, Agent, 100, 0.0, False)"
      ],
      "execution_count": 28,
      "outputs": [
        {
          "output_type": "stream",
          "text": [
            "Game (1.) with reward 319.0\n",
            "Game (2.) with reward 233.0\n",
            "Game (3.) with reward 242.0\n",
            "Game (4.) with reward 428.0\n",
            "Game (5.) with reward 292.0\n",
            "Game (6.) with reward 277.0\n",
            "Game (7.) with reward 267.0\n",
            "Game (8.) with reward 252.0\n",
            "Game (9.) with reward 275.0\n",
            "Game (10.) with reward 310.0\n",
            "Mean game reward for 10 episodes is 289.5\n",
            "Mean game reward for 100 episodes is 282.33\n"
          ],
          "name": "stdout"
        }
      ]
    },
    {
      "cell_type": "markdown",
      "metadata": {
        "id": "_8mJjdYWrpGB",
        "colab_type": "text"
      },
      "source": [
        "Průměrné skóre je větší než 200 ... hra je tedy podle podle pravidel vyřešena."
      ]
    },
    {
      "cell_type": "markdown",
      "metadata": {
        "id": "cJItRsqWlQ-4",
        "colab_type": "text"
      },
      "source": [
        "# The best model\n",
        " - tento model jsem natrénoval již dříve a zatím se mi ho nepodařilo překonat. :D "
      ]
    },
    {
      "cell_type": "code",
      "metadata": {
        "id": "iPufGSoflP6K",
        "colab_type": "code",
        "colab": {
          "base_uri": "https://localhost:8080/",
          "height": 204
        },
        "outputId": "523caa1b-87a9-4a9b-b24c-3dc0e65f9a64"
      },
      "source": [
        "Agent = DQNAgent(state_size, action_size, 24, 24)\n",
        "Agent.model = keras.models.load_model(\"model_24x24.h5\")\n",
        "\n",
        "Model_testing(env, Agent, 10, 0.0)"
      ],
      "execution_count": 30,
      "outputs": [
        {
          "output_type": "stream",
          "text": [
            "Game (1.) with reward 500.0\n",
            "Game (2.) with reward 500.0\n",
            "Game (3.) with reward 500.0\n",
            "Game (4.) with reward 500.0\n",
            "Game (5.) with reward 500.0\n",
            "Game (6.) with reward 500.0\n",
            "Game (7.) with reward 500.0\n",
            "Game (8.) with reward 500.0\n",
            "Game (9.) with reward 500.0\n",
            "Game (10.) with reward 500.0\n",
            "Mean game reward for 10 episodes is 500.0\n"
          ],
          "name": "stdout"
        }
      ]
    },
    {
      "cell_type": "code",
      "metadata": {
        "id": "4_MzrO-Mty2M",
        "colab_type": "code",
        "colab": {}
      },
      "source": [
        ""
      ],
      "execution_count": 0,
      "outputs": []
    },
    {
      "cell_type": "code",
      "metadata": {
        "id": "RGc4ZkK8ty5N",
        "colab_type": "code",
        "colab": {}
      },
      "source": [
        ""
      ],
      "execution_count": 0,
      "outputs": []
    },
    {
      "cell_type": "code",
      "metadata": {
        "colab_type": "code",
        "id": "ucnieScLljjU",
        "colab": {
          "base_uri": "https://localhost:8080/",
          "height": 1020
        },
        "outputId": "2c7bf727-9079-44d3-97e1-69790f281c54"
      },
      "source": [
        "!zip -r /content/file.zip /content/*"
      ],
      "execution_count": 31,
      "outputs": [
        {
          "output_type": "stream",
          "text": [
            "  adding: content/cartpole-dqn_109_learning_rate=0.01_minEps=0.01_gamma=0.9_FirstL:24_SecondL:24_fast.h5 (deflated 74%)\n",
            "  adding: content/cartpole-dqn_119_learning_rate=0.01_minEps=0.01_gamma=0.9_FirstL:24_SecondL:24_fast.h5 (deflated 74%)\n",
            "  adding: content/cartpole-dqn_129_learning_rate=0.01_minEps=0.01_gamma=0.9_FirstL:24_SecondL:24_fast.h5 (deflated 74%)\n",
            "  adding: content/cartpole-dqn_139_learning_rate=0.01_minEps=0.01_gamma=0.9_FirstL:24_SecondL:24_fast.h5 (deflated 75%)\n",
            "  adding: content/cartpole-dqn_149_learning_rate=0.01_minEps=0.01_gamma=0.9_FirstL:24_SecondL:24_fast.h5 (deflated 75%)\n",
            "  adding: content/cartpole-dqn_159_learning_rate=0.01_minEps=0.01_gamma=0.9_FirstL:24_SecondL:24_fast.h5 (deflated 75%)\n",
            "  adding: content/cartpole-dqn_169_learning_rate=0.01_minEps=0.01_gamma=0.9_FirstL:24_SecondL:24_fast.h5 (deflated 75%)\n",
            "  adding: content/cartpole-dqn_179_learning_rate=0.01_minEps=0.01_gamma=0.9_FirstL:24_SecondL:24_fast.h5 (deflated 76%)\n",
            "  adding: content/cartpole-dqn_189_learning_rate=0.01_minEps=0.01_gamma=0.9_FirstL:24_SecondL:24_fast.h5 (deflated 76%)\n",
            "  adding: content/cartpole-dqn_199_learning_rate=0.01_minEps=0.01_gamma=0.9_FirstL:24_SecondL:24_fast.h5 (deflated 77%)\n",
            "  adding: content/cartpole-dqn_19_learning_rate=0.01_minEps=0.01_gamma=0.9_FirstL:24_SecondL:24_fast.h5 (deflated 72%)\n",
            "  adding: content/cartpole-dqn_209_learning_rate=0.01_minEps=0.01_gamma=0.9_FirstL:24_SecondL:24_fast.h5 (deflated 77%)\n",
            "  adding: content/cartpole-dqn_219_learning_rate=0.01_minEps=0.01_gamma=0.9_FirstL:24_SecondL:24_fast.h5 (deflated 77%)\n",
            "  adding: content/cartpole-dqn_229_learning_rate=0.01_minEps=0.01_gamma=0.9_FirstL:24_SecondL:24_fast.h5 (deflated 77%)\n",
            "  adding: content/cartpole-dqn_239_learning_rate=0.01_minEps=0.01_gamma=0.9_FirstL:24_SecondL:24_fast.h5 (deflated 78%)\n",
            "  adding: content/cartpole-dqn_249_learning_rate=0.01_minEps=0.01_gamma=0.9_FirstL:24_SecondL:24_fast.h5 (deflated 78%)\n",
            "  adding: content/cartpole-dqn_259_learning_rate=0.01_minEps=0.01_gamma=0.9_FirstL:24_SecondL:24_fast.h5 (deflated 78%)\n",
            "  adding: content/cartpole-dqn_269_learning_rate=0.01_minEps=0.01_gamma=0.9_FirstL:24_SecondL:24_fast.h5 (deflated 78%)\n",
            "  adding: content/cartpole-dqn_279_learning_rate=0.01_minEps=0.01_gamma=0.9_FirstL:24_SecondL:24_fast.h5 (deflated 79%)\n",
            "  adding: content/cartpole-dqn_289_learning_rate=0.01_minEps=0.01_gamma=0.9_FirstL:24_SecondL:24_fast.h5 (deflated 79%)\n",
            "  adding: content/cartpole-dqn_299_learning_rate=0.01_minEps=0.01_gamma=0.9_FirstL:24_SecondL:24_fast.h5 (deflated 79%)\n",
            "  adding: content/cartpole-dqn_29_learning_rate=0.01_minEps=0.01_gamma=0.9_FirstL:24_SecondL:24_fast.h5 (deflated 73%)\n",
            "  adding: content/cartpole-dqn_309_learning_rate=0.01_minEps=0.01_gamma=0.9_FirstL:24_SecondL:24_fast.h5 (deflated 79%)\n",
            "  adding: content/cartpole-dqn_319_learning_rate=0.01_minEps=0.01_gamma=0.9_FirstL:24_SecondL:24_fast.h5 (deflated 79%)\n",
            "  adding: content/cartpole-dqn_329_learning_rate=0.01_minEps=0.01_gamma=0.9_FirstL:24_SecondL:24_fast.h5 (deflated 79%)\n",
            "  adding: content/cartpole-dqn_339_learning_rate=0.01_minEps=0.01_gamma=0.9_FirstL:24_SecondL:24_fast.h5 (deflated 79%)\n",
            "  adding: content/cartpole-dqn_349_learning_rate=0.01_minEps=0.01_gamma=0.9_FirstL:24_SecondL:24_fast.h5 (deflated 79%)\n",
            "  adding: content/cartpole-dqn_359_learning_rate=0.01_minEps=0.01_gamma=0.9_FirstL:24_SecondL:24_fast.h5 (deflated 79%)\n",
            "  adding: content/cartpole-dqn_369_learning_rate=0.01_minEps=0.01_gamma=0.9_FirstL:24_SecondL:24_fast.h5 (deflated 79%)\n",
            "  adding: content/cartpole-dqn_379_learning_rate=0.01_minEps=0.01_gamma=0.9_FirstL:24_SecondL:24_fast.h5 (deflated 79%)\n",
            "  adding: content/cartpole-dqn_389_learning_rate=0.01_minEps=0.01_gamma=0.9_FirstL:24_SecondL:24_fast.h5 (deflated 79%)\n",
            "  adding: content/cartpole-dqn_399_learning_rate=0.01_minEps=0.01_gamma=0.9_FirstL:24_SecondL:24_fast.h5 (deflated 79%)\n",
            "  adding: content/cartpole-dqn_39_learning_rate=0.01_minEps=0.01_gamma=0.9_FirstL:24_SecondL:24_fast.h5 (deflated 72%)\n",
            "  adding: content/cartpole-dqn_409_learning_rate=0.01_minEps=0.01_gamma=0.9_FirstL:24_SecondL:24_fast.h5 (deflated 79%)\n",
            "  adding: content/cartpole-dqn_419_learning_rate=0.01_minEps=0.01_gamma=0.9_FirstL:24_SecondL:24_fast.h5 (deflated 80%)\n",
            "  adding: content/cartpole-dqn_429_learning_rate=0.01_minEps=0.01_gamma=0.9_FirstL:24_SecondL:24_fast.h5 (deflated 80%)\n",
            "  adding: content/cartpole-dqn_439_learning_rate=0.01_minEps=0.01_gamma=0.9_FirstL:24_SecondL:24_fast.h5 (deflated 80%)\n",
            "  adding: content/cartpole-dqn_449_learning_rate=0.01_minEps=0.01_gamma=0.9_FirstL:24_SecondL:24_fast.h5 (deflated 80%)\n",
            "  adding: content/cartpole-dqn_459_learning_rate=0.01_minEps=0.01_gamma=0.9_FirstL:24_SecondL:24_fast.h5 (deflated 80%)\n",
            "  adding: content/cartpole-dqn_469_learning_rate=0.01_minEps=0.01_gamma=0.9_FirstL:24_SecondL:24_fast.h5 (deflated 80%)\n",
            "  adding: content/cartpole-dqn_479_learning_rate=0.01_minEps=0.01_gamma=0.9_FirstL:24_SecondL:24_fast.h5 (deflated 80%)\n",
            "  adding: content/cartpole-dqn_489_learning_rate=0.01_minEps=0.01_gamma=0.9_FirstL:24_SecondL:24_fast.h5 (deflated 80%)\n",
            "  adding: content/cartpole-dqn_499_learning_rate=0.01_minEps=0.01_gamma=0.9_FirstL:24_SecondL:24_fast.h5 (deflated 80%)\n",
            "  adding: content/cartpole-dqn_49_learning_rate=0.01_minEps=0.01_gamma=0.9_FirstL:24_SecondL:24_fast.h5 (deflated 73%)\n",
            "  adding: content/cartpole-dqn_59_learning_rate=0.01_minEps=0.01_gamma=0.9_FirstL:24_SecondL:24_fast.h5 (deflated 74%)\n",
            "  adding: content/cartpole-dqn_69_learning_rate=0.01_minEps=0.01_gamma=0.9_FirstL:24_SecondL:24_fast.h5 (deflated 74%)\n",
            "  adding: content/cartpole-dqn_79_learning_rate=0.01_minEps=0.01_gamma=0.9_FirstL:24_SecondL:24_fast.h5 (deflated 75%)\n",
            "  adding: content/cartpole-dqn_89_learning_rate=0.01_minEps=0.01_gamma=0.9_FirstL:24_SecondL:24_fast.h5 (deflated 74%)\n",
            "  adding: content/cartpole-dqn_99_learning_rate=0.01_minEps=0.01_gamma=0.9_FirstL:24_SecondL:24_fast.h5 (deflated 75%)\n",
            "  adding: content/cartpole-dqn_9_learning_rate=0.01_minEps=0.01_gamma=0.9_FirstL:24_SecondL:24_fast.h5 (deflated 72%)\n",
            "  adding: content/model_24x24.h5 (deflated 71%)\n",
            "  adding: content/sample_data/ (stored 0%)\n",
            "  adding: content/sample_data/README.md (deflated 41%)\n",
            "  adding: content/sample_data/anscombe.json (deflated 83%)\n",
            "  adding: content/sample_data/mnist_train_small.csv (deflated 88%)\n",
            "  adding: content/sample_data/mnist_test.csv (deflated 88%)\n",
            "  adding: content/sample_data/california_housing_test.csv (deflated 76%)\n",
            "  adding: content/sample_data/california_housing_train.csv (deflated 79%)\n",
            "  adding: content/score_per_episode_learning_rate=0.01_minEps=0.01_gamma=0.9.npy (deflated 74%)\n"
          ],
          "name": "stdout"
        }
      ]
    },
    {
      "cell_type": "code",
      "metadata": {
        "id": "7KRgbSG5TWJr",
        "colab_type": "code",
        "colab": {}
      },
      "source": [
        "from google.colab import files\n",
        "files.download(\"file.zip\")"
      ],
      "execution_count": 0,
      "outputs": []
    },
    {
      "cell_type": "code",
      "metadata": {
        "id": "JYAXfK4MTwct",
        "colab_type": "code",
        "colab": {}
      },
      "source": [
        ""
      ],
      "execution_count": 0,
      "outputs": []
    }
  ]
}